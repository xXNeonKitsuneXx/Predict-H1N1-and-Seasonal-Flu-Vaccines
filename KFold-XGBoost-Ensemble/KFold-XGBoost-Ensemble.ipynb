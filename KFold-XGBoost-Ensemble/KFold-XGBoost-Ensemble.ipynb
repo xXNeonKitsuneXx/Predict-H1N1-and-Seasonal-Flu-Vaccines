{
 "cells": [
  {
   "cell_type": "code",
   "execution_count": 8,
   "metadata": {},
   "outputs": [
    {
     "name": "stdout",
     "output_type": "stream",
     "text": [
      "Requirement already satisfied: pandas in c:\\users\\xxneo\\appdata\\local\\programs\\python\\python311\\lib\\site-packages (2.2.3)\n",
      "Requirement already satisfied: numpy>=1.23.2 in c:\\users\\xxneo\\appdata\\local\\programs\\python\\python311\\lib\\site-packages (from pandas) (1.26.4)\n",
      "Requirement already satisfied: python-dateutil>=2.8.2 in c:\\users\\xxneo\\appdata\\local\\programs\\python\\python311\\lib\\site-packages (from pandas) (2.9.0.post0)\n",
      "Requirement already satisfied: pytz>=2020.1 in c:\\users\\xxneo\\appdata\\local\\programs\\python\\python311\\lib\\site-packages (from pandas) (2024.2)\n",
      "Requirement already satisfied: tzdata>=2022.7 in c:\\users\\xxneo\\appdata\\local\\programs\\python\\python311\\lib\\site-packages (from pandas) (2024.2)\n",
      "Requirement already satisfied: six>=1.5 in c:\\users\\xxneo\\appdata\\local\\programs\\python\\python311\\lib\\site-packages (from python-dateutil>=2.8.2->pandas) (1.16.0)\n"
     ]
    },
    {
     "name": "stderr",
     "output_type": "stream",
     "text": [
      "\n",
      "[notice] A new release of pip available: 22.3.1 -> 25.0.1\n",
      "[notice] To update, run: python.exe -m pip install --upgrade pip\n"
     ]
    },
    {
     "name": "stdout",
     "output_type": "stream",
     "text": [
      "Requirement already satisfied: numpy in c:\\users\\xxneo\\appdata\\local\\programs\\python\\python311\\lib\\site-packages (1.26.4)"
     ]
    },
    {
     "name": "stderr",
     "output_type": "stream",
     "text": [
      "\n",
      "[notice] A new release of pip available: 22.3.1 -> 25.0.1\n",
      "[notice] To update, run: python.exe -m pip install --upgrade pip\n"
     ]
    },
    {
     "name": "stdout",
     "output_type": "stream",
     "text": [
      "\n",
      "Requirement already satisfied: scikit-learn in c:\\users\\xxneo\\appdata\\local\\programs\\python\\python311\\lib\\site-packages (1.6.1)\n",
      "Requirement already satisfied: numpy>=1.19.5 in c:\\users\\xxneo\\appdata\\local\\programs\\python\\python311\\lib\\site-packages (from scikit-learn) (1.26.4)\n",
      "Requirement already satisfied: scipy>=1.6.0 in c:\\users\\xxneo\\appdata\\local\\programs\\python\\python311\\lib\\site-packages (from scikit-learn) (1.14.1)\n",
      "Requirement already satisfied: joblib>=1.2.0 in c:\\users\\xxneo\\appdata\\local\\programs\\python\\python311\\lib\\site-packages (from scikit-learn) (1.4.2)\n",
      "Requirement already satisfied: threadpoolctl>=3.1.0 in c:\\users\\xxneo\\appdata\\local\\programs\\python\\python311\\lib\\site-packages (from scikit-learn) (3.5.0)\n"
     ]
    },
    {
     "name": "stderr",
     "output_type": "stream",
     "text": [
      "\n",
      "[notice] A new release of pip available: 22.3.1 -> 25.0.1\n",
      "[notice] To update, run: python.exe -m pip install --upgrade pip\n"
     ]
    },
    {
     "name": "stdout",
     "output_type": "stream",
     "text": [
      "Requirement already satisfied: xgboost in c:\\users\\xxneo\\appdata\\local\\programs\\python\\python311\\lib\\site-packages (2.1.4)\n",
      "Requirement already satisfied: numpy in c:\\users\\xxneo\\appdata\\local\\programs\\python\\python311\\lib\\site-packages (from xgboost) (1.26.4)\n",
      "Requirement already satisfied: scipy in c:\\users\\xxneo\\appdata\\local\\programs\\python\\python311\\lib\\site-packages (from xgboost) (1.14.1)\n"
     ]
    },
    {
     "name": "stderr",
     "output_type": "stream",
     "text": [
      "\n",
      "[notice] A new release of pip available: 22.3.1 -> 25.0.1\n",
      "[notice] To update, run: python.exe -m pip install --upgrade pip\n"
     ]
    }
   ],
   "source": [
    "!pip install pandas\n",
    "!pip install numpy\n",
    "!pip install scikit-learn\n",
    "!pip install xgboost"
   ]
  },
  {
   "cell_type": "code",
   "metadata": {
    "ExecuteTime": {
     "end_time": "2025-04-23T07:25:19.613021Z",
     "start_time": "2025-04-23T07:25:18.774304Z"
    }
   },
   "source": [
    "import pandas as pd\n",
    "import numpy as np\n",
    "from xgboost import XGBClassifier\n",
    "from sklearn.model_selection import StratifiedKFold\n",
    "from sklearn.metrics import roc_auc_score\n",
    "from sklearn.impute import SimpleImputer\n",
    "from sklearn.preprocessing import OneHotEncoder\n",
    "from sklearn.compose import ColumnTransformer\n",
    "from sklearn.pipeline import Pipeline"
   ],
   "outputs": [],
   "execution_count": 1
  },
  {
   "cell_type": "code",
   "metadata": {
    "ExecuteTime": {
     "end_time": "2025-04-23T07:26:23.646710Z",
     "start_time": "2025-04-23T07:26:23.559178Z"
    }
   },
   "source": [
    "train_features = pd.read_csv(\"./Training Set Features.csv\")\n",
    "train_labels = pd.read_csv(\"./Training Set Labels.csv\")\n",
    "test_features = pd.read_csv(\"./Test Set Features.csv\")"
   ],
   "outputs": [],
   "execution_count": 3
  },
  {
   "cell_type": "code",
   "metadata": {
    "ExecuteTime": {
     "end_time": "2025-04-23T07:26:26.327177Z",
     "start_time": "2025-04-23T07:26:26.308164Z"
    }
   },
   "source": [
    "# Merge training labels with features\n",
    "train = train_features.merge(train_labels, on=\"respondent_id\")\n",
    "\n",
    "# Extract respondent_id for test\n",
    "test_respondent_id = test_features[\"respondent_id\"]\n",
    "\n",
    "# Drop respondent_id from features\n",
    "train.drop(columns=[\"respondent_id\"], inplace=True)\n",
    "test_features.drop(columns=[\"respondent_id\"], inplace=True)"
   ],
   "outputs": [],
   "execution_count": 4
  },
  {
   "cell_type": "code",
   "metadata": {
    "ExecuteTime": {
     "end_time": "2025-04-23T07:26:28.634686Z",
     "start_time": "2025-04-23T07:26:28.625985Z"
    }
   },
   "source": [
    "# Define categorical and numerical features\n",
    "categorical_features = train.select_dtypes(include=[\"object\"]).columns.tolist()\n",
    "numerical_features = train.select_dtypes(include=[\"int64\", \"float64\"]).columns.tolist()\n",
    "numerical_features.remove(\"h1n1_vaccine\")\n",
    "numerical_features.remove(\"seasonal_vaccine\")"
   ],
   "outputs": [],
   "execution_count": 5
  },
  {
   "cell_type": "code",
   "metadata": {
    "ExecuteTime": {
     "end_time": "2025-04-23T07:26:30.408874Z",
     "start_time": "2025-04-23T07:26:30.296260Z"
    }
   },
   "source": [
    "# Preprocessing Pipeline\n",
    "num_pipeline = SimpleImputer(strategy=\"mean\")\n",
    "cat_pipeline = Pipeline([\n",
    "    (\"imputer\", SimpleImputer(strategy=\"most_frequent\")),\n",
    "    (\"encoder\", OneHotEncoder(handle_unknown=\"ignore\"))\n",
    "])\n",
    "\n",
    "preprocessor = ColumnTransformer([\n",
    "    (\"num\", num_pipeline, numerical_features),\n",
    "    (\"cat\", cat_pipeline, categorical_features)\n",
    "])\n",
    "\n",
    "# Fit and transform training data\n",
    "X_train_processed = preprocessor.fit_transform(train.drop(columns=[\"h1n1_vaccine\", \"seasonal_vaccine\"]))\n",
    "y_train = train[[\"h1n1_vaccine\", \"seasonal_vaccine\"]]\n",
    "\n",
    "# Transform test data\n",
    "X_test_processed = preprocessor.transform(test_features)"
   ],
   "outputs": [],
   "execution_count": 6
  },
  {
   "cell_type": "code",
   "metadata": {
    "ExecuteTime": {
     "end_time": "2025-04-23T07:27:39.286305Z",
     "start_time": "2025-04-23T07:26:32.119652Z"
    }
   },
   "source": [
    "# Define number of folds\n",
    "FOLDS = 10\n",
    "skf = StratifiedKFold(n_splits=FOLDS, shuffle=True, random_state=42)\n",
    "\n",
    "# Create empty arrays for OOF and test predictions\n",
    "oof_h1n1 = np.zeros(len(X_train_processed))\n",
    "oof_seasonal = np.zeros(len(X_train_processed))\n",
    "\n",
    "pred_h1n1 = np.zeros(len(X_test_processed))\n",
    "pred_seasonal = np.zeros(len(X_test_processed))\n",
    "\n",
    "for fold, (train_idx, val_idx) in enumerate(skf.split(X_train_processed, y_train[\"h1n1_vaccine\"])):\n",
    "\n",
    "    print(\"#\" * 25)\n",
    "    print(f\"### Fold {fold + 1}\")\n",
    "    print(\"#\" * 25)\n",
    "\n",
    "    # Split data for this fold\n",
    "    x_train, x_valid = X_train_processed[train_idx], X_train_processed[val_idx]\n",
    "    y_train_h1n1, y_valid_h1n1 = y_train[\"h1n1_vaccine\"].iloc[train_idx], y_train[\"h1n1_vaccine\"].iloc[val_idx]\n",
    "    y_train_seasonal, y_valid_seasonal = y_train[\"seasonal_vaccine\"].iloc[train_idx], y_train[\"seasonal_vaccine\"].iloc[val_idx]\n",
    "\n",
    "    # Define models\n",
    "    model_h1n1 = XGBClassifier(\n",
    "        max_depth=5,  \n",
    "        colsample_bytree=0.5,  \n",
    "        subsample=0.8,  \n",
    "        n_estimators=2000,  \n",
    "        learning_rate=0.015,  \n",
    "        reg_alpha=0.1, reg_lambda=1.0, \n",
    "        min_child_weight=80,\n",
    "        use_label_encoder=False,\n",
    "        eval_metric=\"logloss\",\n",
    "        random_state=42\n",
    "    )\n",
    "\n",
    "    model_seasonal = XGBClassifier(\n",
    "        max_depth=5,  \n",
    "        colsample_bytree=0.5,  \n",
    "        subsample=0.8,  \n",
    "        n_estimators=2000,  \n",
    "        learning_rate=0.015,  \n",
    "        reg_alpha=0.1, reg_lambda=1.0, \n",
    "        min_child_weight=80,\n",
    "        use_label_encoder=False,\n",
    "        eval_metric=\"logloss\",\n",
    "        random_state=42\n",
    "    )\n",
    "\n",
    "\n",
    "    # Train H1N1 model\n",
    "    model_h1n1.fit(\n",
    "        x_train, y_train_h1n1,\n",
    "        eval_set=[(x_valid, y_valid_h1n1)],\n",
    "        verbose=500,\n",
    "    )\n",
    "\n",
    "    # Train Seasonal model\n",
    "    model_seasonal.fit(\n",
    "        x_train, y_train_seasonal,\n",
    "        eval_set=[(x_valid, y_valid_seasonal)],\n",
    "        verbose=500,\n",
    "    )\n",
    "\n",
    "    # Infer OOF predictions\n",
    "    oof_h1n1[val_idx] = model_h1n1.predict_proba(x_valid)[:, 1]\n",
    "    oof_seasonal[val_idx] = model_seasonal.predict_proba(x_valid)[:, 1]\n",
    "\n",
    "    # Infer test predictions (averaging across folds)\n",
    "    pred_h1n1 += model_h1n1.predict_proba(X_test_processed)[:, 1] / FOLDS\n",
    "    pred_seasonal += model_seasonal.predict_proba(X_test_processed)[:, 1] / FOLDS\n"
   ],
   "outputs": [
    {
     "name": "stdout",
     "output_type": "stream",
     "text": [
      "#########################\n",
      "### Fold 1\n",
      "#########################\n",
      "[0]\tvalidation_0-logloss:0.51381\n"
     ]
    },
    {
     "name": "stderr",
     "output_type": "stream",
     "text": [
      "/Users/peem/PycharmProjects/test/.venv/lib/python3.13/site-packages/xgboost/training.py:183: UserWarning: [14:26:32] WARNING: /Users/runner/work/xgboost/xgboost/src/learner.cc:738: \n",
      "Parameters: { \"use_label_encoder\" } are not used.\n",
      "\n",
      "  bst.update(dtrain, iteration=i, fobj=obj)\n"
     ]
    },
    {
     "name": "stdout",
     "output_type": "stream",
     "text": [
      "[500]\tvalidation_0-logloss:0.35482\n",
      "[1000]\tvalidation_0-logloss:0.35016\n",
      "[1500]\tvalidation_0-logloss:0.34858\n",
      "[1999]\tvalidation_0-logloss:0.34797\n",
      "[0]\tvalidation_0-logloss:0.68882\n"
     ]
    },
    {
     "name": "stderr",
     "output_type": "stream",
     "text": [
      "/Users/peem/PycharmProjects/test/.venv/lib/python3.13/site-packages/xgboost/training.py:183: UserWarning: [14:26:35] WARNING: /Users/runner/work/xgboost/xgboost/src/learner.cc:738: \n",
      "Parameters: { \"use_label_encoder\" } are not used.\n",
      "\n",
      "  bst.update(dtrain, iteration=i, fobj=obj)\n"
     ]
    },
    {
     "name": "stdout",
     "output_type": "stream",
     "text": [
      "[500]\tvalidation_0-logloss:0.46120\n",
      "[1000]\tvalidation_0-logloss:0.45687\n",
      "[1500]\tvalidation_0-logloss:0.45601\n",
      "[1999]\tvalidation_0-logloss:0.45623\n",
      "#########################\n",
      "### Fold 2\n",
      "#########################\n",
      "[0]\tvalidation_0-logloss:0.51364\n"
     ]
    },
    {
     "name": "stderr",
     "output_type": "stream",
     "text": [
      "/Users/peem/PycharmProjects/test/.venv/lib/python3.13/site-packages/xgboost/training.py:183: UserWarning: [14:26:39] WARNING: /Users/runner/work/xgboost/xgboost/src/learner.cc:738: \n",
      "Parameters: { \"use_label_encoder\" } are not used.\n",
      "\n",
      "  bst.update(dtrain, iteration=i, fobj=obj)\n"
     ]
    },
    {
     "name": "stdout",
     "output_type": "stream",
     "text": [
      "[500]\tvalidation_0-logloss:0.34545\n",
      "[1000]\tvalidation_0-logloss:0.34498\n",
      "[1500]\tvalidation_0-logloss:0.34516\n",
      "[1999]\tvalidation_0-logloss:0.34580\n",
      "[0]\tvalidation_0-logloss:0.68839\n"
     ]
    },
    {
     "name": "stderr",
     "output_type": "stream",
     "text": [
      "/Users/peem/PycharmProjects/test/.venv/lib/python3.13/site-packages/xgboost/training.py:183: UserWarning: [14:26:42] WARNING: /Users/runner/work/xgboost/xgboost/src/learner.cc:738: \n",
      "Parameters: { \"use_label_encoder\" } are not used.\n",
      "\n",
      "  bst.update(dtrain, iteration=i, fobj=obj)\n"
     ]
    },
    {
     "name": "stdout",
     "output_type": "stream",
     "text": [
      "[500]\tvalidation_0-logloss:0.48039\n",
      "[1000]\tvalidation_0-logloss:0.48082\n",
      "[1500]\tvalidation_0-logloss:0.48026\n",
      "[1999]\tvalidation_0-logloss:0.47980\n",
      "#########################\n",
      "### Fold 3\n",
      "#########################\n",
      "[0]\tvalidation_0-logloss:0.51333\n"
     ]
    },
    {
     "name": "stderr",
     "output_type": "stream",
     "text": [
      "/Users/peem/PycharmProjects/test/.venv/lib/python3.13/site-packages/xgboost/training.py:183: UserWarning: [14:26:45] WARNING: /Users/runner/work/xgboost/xgboost/src/learner.cc:738: \n",
      "Parameters: { \"use_label_encoder\" } are not used.\n",
      "\n",
      "  bst.update(dtrain, iteration=i, fobj=obj)\n"
     ]
    },
    {
     "name": "stdout",
     "output_type": "stream",
     "text": [
      "[500]\tvalidation_0-logloss:0.34219\n",
      "[1000]\tvalidation_0-logloss:0.34094\n",
      "[1500]\tvalidation_0-logloss:0.34073\n",
      "[1999]\tvalidation_0-logloss:0.34114\n",
      "[0]\tvalidation_0-logloss:0.68991\n"
     ]
    },
    {
     "name": "stderr",
     "output_type": "stream",
     "text": [
      "/Users/peem/PycharmProjects/test/.venv/lib/python3.13/site-packages/xgboost/training.py:183: UserWarning: [14:26:49] WARNING: /Users/runner/work/xgboost/xgboost/src/learner.cc:738: \n",
      "Parameters: { \"use_label_encoder\" } are not used.\n",
      "\n",
      "  bst.update(dtrain, iteration=i, fobj=obj)\n"
     ]
    },
    {
     "name": "stdout",
     "output_type": "stream",
     "text": [
      "[500]\tvalidation_0-logloss:0.46271\n",
      "[1000]\tvalidation_0-logloss:0.45871\n",
      "[1500]\tvalidation_0-logloss:0.45815\n",
      "[1999]\tvalidation_0-logloss:0.45830\n",
      "#########################\n",
      "### Fold 4\n",
      "#########################\n",
      "[0]\tvalidation_0-logloss:0.51421\n"
     ]
    },
    {
     "name": "stderr",
     "output_type": "stream",
     "text": [
      "/Users/peem/PycharmProjects/test/.venv/lib/python3.13/site-packages/xgboost/training.py:183: UserWarning: [14:26:52] WARNING: /Users/runner/work/xgboost/xgboost/src/learner.cc:738: \n",
      "Parameters: { \"use_label_encoder\" } are not used.\n",
      "\n",
      "  bst.update(dtrain, iteration=i, fobj=obj)\n"
     ]
    },
    {
     "name": "stdout",
     "output_type": "stream",
     "text": [
      "[500]\tvalidation_0-logloss:0.33254\n",
      "[1000]\tvalidation_0-logloss:0.32855\n",
      "[1500]\tvalidation_0-logloss:0.32771\n",
      "[1999]\tvalidation_0-logloss:0.32725\n",
      "[0]\tvalidation_0-logloss:0.68862\n"
     ]
    },
    {
     "name": "stderr",
     "output_type": "stream",
     "text": [
      "/Users/peem/PycharmProjects/test/.venv/lib/python3.13/site-packages/xgboost/training.py:183: UserWarning: [14:26:55] WARNING: /Users/runner/work/xgboost/xgboost/src/learner.cc:738: \n",
      "Parameters: { \"use_label_encoder\" } are not used.\n",
      "\n",
      "  bst.update(dtrain, iteration=i, fobj=obj)\n"
     ]
    },
    {
     "name": "stdout",
     "output_type": "stream",
     "text": [
      "[500]\tvalidation_0-logloss:0.47418\n",
      "[1000]\tvalidation_0-logloss:0.46814\n",
      "[1500]\tvalidation_0-logloss:0.46679\n",
      "[1999]\tvalidation_0-logloss:0.46687\n",
      "#########################\n",
      "### Fold 5\n",
      "#########################\n",
      "[0]\tvalidation_0-logloss:0.51421\n"
     ]
    },
    {
     "name": "stderr",
     "output_type": "stream",
     "text": [
      "/Users/peem/PycharmProjects/test/.venv/lib/python3.13/site-packages/xgboost/training.py:183: UserWarning: [14:26:59] WARNING: /Users/runner/work/xgboost/xgboost/src/learner.cc:738: \n",
      "Parameters: { \"use_label_encoder\" } are not used.\n",
      "\n",
      "  bst.update(dtrain, iteration=i, fobj=obj)\n"
     ]
    },
    {
     "name": "stdout",
     "output_type": "stream",
     "text": [
      "[500]\tvalidation_0-logloss:0.36145\n",
      "[1000]\tvalidation_0-logloss:0.35968\n",
      "[1500]\tvalidation_0-logloss:0.35973\n",
      "[1999]\tvalidation_0-logloss:0.36016\n",
      "[0]\tvalidation_0-logloss:0.68852\n"
     ]
    },
    {
     "name": "stderr",
     "output_type": "stream",
     "text": [
      "/Users/peem/PycharmProjects/test/.venv/lib/python3.13/site-packages/xgboost/training.py:183: UserWarning: [14:27:02] WARNING: /Users/runner/work/xgboost/xgboost/src/learner.cc:738: \n",
      "Parameters: { \"use_label_encoder\" } are not used.\n",
      "\n",
      "  bst.update(dtrain, iteration=i, fobj=obj)\n"
     ]
    },
    {
     "name": "stdout",
     "output_type": "stream",
     "text": [
      "[500]\tvalidation_0-logloss:0.47037\n",
      "[1000]\tvalidation_0-logloss:0.46687\n",
      "[1500]\tvalidation_0-logloss:0.46616\n",
      "[1999]\tvalidation_0-logloss:0.46682\n",
      "#########################\n",
      "### Fold 6\n",
      "#########################\n",
      "[0]\tvalidation_0-logloss:0.51384\n"
     ]
    },
    {
     "name": "stderr",
     "output_type": "stream",
     "text": [
      "/Users/peem/PycharmProjects/test/.venv/lib/python3.13/site-packages/xgboost/training.py:183: UserWarning: [14:27:05] WARNING: /Users/runner/work/xgboost/xgboost/src/learner.cc:738: \n",
      "Parameters: { \"use_label_encoder\" } are not used.\n",
      "\n",
      "  bst.update(dtrain, iteration=i, fobj=obj)\n"
     ]
    },
    {
     "name": "stdout",
     "output_type": "stream",
     "text": [
      "[500]\tvalidation_0-logloss:0.33441\n",
      "[1000]\tvalidation_0-logloss:0.33018\n",
      "[1500]\tvalidation_0-logloss:0.32843\n",
      "[1999]\tvalidation_0-logloss:0.32775\n",
      "[0]\tvalidation_0-logloss:0.68833\n"
     ]
    },
    {
     "name": "stderr",
     "output_type": "stream",
     "text": [
      "/Users/peem/PycharmProjects/test/.venv/lib/python3.13/site-packages/xgboost/training.py:183: UserWarning: [14:27:08] WARNING: /Users/runner/work/xgboost/xgboost/src/learner.cc:738: \n",
      "Parameters: { \"use_label_encoder\" } are not used.\n",
      "\n",
      "  bst.update(dtrain, iteration=i, fobj=obj)\n"
     ]
    },
    {
     "name": "stdout",
     "output_type": "stream",
     "text": [
      "[500]\tvalidation_0-logloss:0.46226\n",
      "[1000]\tvalidation_0-logloss:0.45772\n",
      "[1500]\tvalidation_0-logloss:0.45668\n",
      "[1999]\tvalidation_0-logloss:0.45654\n",
      "#########################\n",
      "### Fold 7\n",
      "#########################\n",
      "[0]\tvalidation_0-logloss:0.51403\n"
     ]
    },
    {
     "name": "stderr",
     "output_type": "stream",
     "text": [
      "/Users/peem/PycharmProjects/test/.venv/lib/python3.13/site-packages/xgboost/training.py:183: UserWarning: [14:27:12] WARNING: /Users/runner/work/xgboost/xgboost/src/learner.cc:738: \n",
      "Parameters: { \"use_label_encoder\" } are not used.\n",
      "\n",
      "  bst.update(dtrain, iteration=i, fobj=obj)\n"
     ]
    },
    {
     "name": "stdout",
     "output_type": "stream",
     "text": [
      "[500]\tvalidation_0-logloss:0.34783\n",
      "[1000]\tvalidation_0-logloss:0.34313\n",
      "[1500]\tvalidation_0-logloss:0.34206\n",
      "[1999]\tvalidation_0-logloss:0.34169\n",
      "[0]\tvalidation_0-logloss:0.68862\n"
     ]
    },
    {
     "name": "stderr",
     "output_type": "stream",
     "text": [
      "/Users/peem/PycharmProjects/test/.venv/lib/python3.13/site-packages/xgboost/training.py:183: UserWarning: [14:27:15] WARNING: /Users/runner/work/xgboost/xgboost/src/learner.cc:738: \n",
      "Parameters: { \"use_label_encoder\" } are not used.\n",
      "\n",
      "  bst.update(dtrain, iteration=i, fobj=obj)\n"
     ]
    },
    {
     "name": "stdout",
     "output_type": "stream",
     "text": [
      "[500]\tvalidation_0-logloss:0.44553\n",
      "[1000]\tvalidation_0-logloss:0.44001\n",
      "[1500]\tvalidation_0-logloss:0.43840\n",
      "[1999]\tvalidation_0-logloss:0.43793\n",
      "#########################\n",
      "### Fold 8\n",
      "#########################\n",
      "[0]\tvalidation_0-logloss:0.51359\n"
     ]
    },
    {
     "name": "stderr",
     "output_type": "stream",
     "text": [
      "/Users/peem/PycharmProjects/test/.venv/lib/python3.13/site-packages/xgboost/training.py:183: UserWarning: [14:27:18] WARNING: /Users/runner/work/xgboost/xgboost/src/learner.cc:738: \n",
      "Parameters: { \"use_label_encoder\" } are not used.\n",
      "\n",
      "  bst.update(dtrain, iteration=i, fobj=obj)\n"
     ]
    },
    {
     "name": "stdout",
     "output_type": "stream",
     "text": [
      "[500]\tvalidation_0-logloss:0.34232\n",
      "[1000]\tvalidation_0-logloss:0.33849\n",
      "[1500]\tvalidation_0-logloss:0.33707\n",
      "[1999]\tvalidation_0-logloss:0.33642\n",
      "[0]\tvalidation_0-logloss:0.68701\n"
     ]
    },
    {
     "name": "stderr",
     "output_type": "stream",
     "text": [
      "/Users/peem/PycharmProjects/test/.venv/lib/python3.13/site-packages/xgboost/training.py:183: UserWarning: [14:27:22] WARNING: /Users/runner/work/xgboost/xgboost/src/learner.cc:738: \n",
      "Parameters: { \"use_label_encoder\" } are not used.\n",
      "\n",
      "  bst.update(dtrain, iteration=i, fobj=obj)\n"
     ]
    },
    {
     "name": "stdout",
     "output_type": "stream",
     "text": [
      "[500]\tvalidation_0-logloss:0.47017\n",
      "[1000]\tvalidation_0-logloss:0.46773\n",
      "[1500]\tvalidation_0-logloss:0.46733\n",
      "[1999]\tvalidation_0-logloss:0.46764\n",
      "#########################\n",
      "### Fold 9\n",
      "#########################\n",
      "[0]\tvalidation_0-logloss:0.51388\n"
     ]
    },
    {
     "name": "stderr",
     "output_type": "stream",
     "text": [
      "/Users/peem/PycharmProjects/test/.venv/lib/python3.13/site-packages/xgboost/training.py:183: UserWarning: [14:27:25] WARNING: /Users/runner/work/xgboost/xgboost/src/learner.cc:738: \n",
      "Parameters: { \"use_label_encoder\" } are not used.\n",
      "\n",
      "  bst.update(dtrain, iteration=i, fobj=obj)\n"
     ]
    },
    {
     "name": "stdout",
     "output_type": "stream",
     "text": [
      "[500]\tvalidation_0-logloss:0.35127\n",
      "[1000]\tvalidation_0-logloss:0.34809\n",
      "[1500]\tvalidation_0-logloss:0.34822\n",
      "[1999]\tvalidation_0-logloss:0.34881\n",
      "[0]\tvalidation_0-logloss:0.68934\n"
     ]
    },
    {
     "name": "stderr",
     "output_type": "stream",
     "text": [
      "/Users/peem/PycharmProjects/test/.venv/lib/python3.13/site-packages/xgboost/training.py:183: UserWarning: [14:27:29] WARNING: /Users/runner/work/xgboost/xgboost/src/learner.cc:738: \n",
      "Parameters: { \"use_label_encoder\" } are not used.\n",
      "\n",
      "  bst.update(dtrain, iteration=i, fobj=obj)\n"
     ]
    },
    {
     "name": "stdout",
     "output_type": "stream",
     "text": [
      "[500]\tvalidation_0-logloss:0.47488\n",
      "[1000]\tvalidation_0-logloss:0.47347\n",
      "[1500]\tvalidation_0-logloss:0.47323\n",
      "[1999]\tvalidation_0-logloss:0.47359\n",
      "#########################\n",
      "### Fold 10\n",
      "#########################\n",
      "[0]\tvalidation_0-logloss:0.51365\n"
     ]
    },
    {
     "name": "stderr",
     "output_type": "stream",
     "text": [
      "/Users/peem/PycharmProjects/test/.venv/lib/python3.13/site-packages/xgboost/training.py:183: UserWarning: [14:27:32] WARNING: /Users/runner/work/xgboost/xgboost/src/learner.cc:738: \n",
      "Parameters: { \"use_label_encoder\" } are not used.\n",
      "\n",
      "  bst.update(dtrain, iteration=i, fobj=obj)\n"
     ]
    },
    {
     "name": "stdout",
     "output_type": "stream",
     "text": [
      "[500]\tvalidation_0-logloss:0.35675\n",
      "[1000]\tvalidation_0-logloss:0.35486\n",
      "[1500]\tvalidation_0-logloss:0.35416\n",
      "[1999]\tvalidation_0-logloss:0.35437\n",
      "[0]\tvalidation_0-logloss:0.69110\n"
     ]
    },
    {
     "name": "stderr",
     "output_type": "stream",
     "text": [
      "/Users/peem/PycharmProjects/test/.venv/lib/python3.13/site-packages/xgboost/training.py:183: UserWarning: [14:27:35] WARNING: /Users/runner/work/xgboost/xgboost/src/learner.cc:738: \n",
      "Parameters: { \"use_label_encoder\" } are not used.\n",
      "\n",
      "  bst.update(dtrain, iteration=i, fobj=obj)\n"
     ]
    },
    {
     "name": "stdout",
     "output_type": "stream",
     "text": [
      "[500]\tvalidation_0-logloss:0.45540\n",
      "[1000]\tvalidation_0-logloss:0.45192\n",
      "[1500]\tvalidation_0-logloss:0.45164\n",
      "[1999]\tvalidation_0-logloss:0.45194\n"
     ]
    }
   ],
   "execution_count": 7
  },
  {
   "cell_type": "code",
   "metadata": {
    "ExecuteTime": {
     "end_time": "2025-04-23T07:28:47.630641Z",
     "start_time": "2025-04-23T07:28:47.609775Z"
    }
   },
   "source": [
    "# Compute AUC for out-of-fold predictions\n",
    "auc_h1n1 = roc_auc_score(y_train[\"h1n1_vaccine\"], oof_h1n1)\n",
    "auc_seasonal = roc_auc_score(y_train[\"seasonal_vaccine\"], oof_seasonal)\n",
    "\n",
    "print(f\"\\nFinal OOF AUC - H1N1: {auc_h1n1:.4f}\")\n",
    "print(f\"Final OOF AUC - Seasonal: {auc_seasonal:.4f}\")"
   ],
   "outputs": [
    {
     "name": "stdout",
     "output_type": "stream",
     "text": [
      "\n",
      "Final OOF AUC - H1N1: 0.8685\n",
      "Final OOF AUC - Seasonal: 0.8627\n"
     ]
    }
   ],
   "execution_count": 8
  },
  {
   "cell_type": "code",
   "metadata": {
    "ExecuteTime": {
     "end_time": "2025-04-23T07:30:22.315455Z",
     "start_time": "2025-04-23T07:30:22.266264Z"
    }
   },
   "source": [
    "# Prepare final test predictions\n",
    "submission = pd.DataFrame({\n",
    "    \"respondent_id\": test_respondent_id,\n",
    "    \"h1n1_vaccine\": pred_h1n1,\n",
    "    \"seasonal_vaccine\": pred_seasonal\n",
    "})\n",
    "\n",
    "# Save submission file\n",
    "submission.to_csv(\"submission_KFold-XGBoost.csv\", index=False)\n",
    "print(\"Final submission file 'submission_df.csv' created successfully!\")"
   ],
   "outputs": [
    {
     "name": "stdout",
     "output_type": "stream",
     "text": [
      "Final submission file 'submission_df.csv' created successfully!\n"
     ]
    }
   ],
   "execution_count": 11
  },
  {
   "cell_type": "markdown",
   "metadata": {},
   "source": [
    "## Ensemble Model for Higher Accuracy"
   ]
  },
  {
   "cell_type": "code",
   "metadata": {
    "ExecuteTime": {
     "end_time": "2025-04-23T07:31:28.448160Z",
     "start_time": "2025-04-23T07:31:28.383048Z"
    }
   },
   "source": [
    "\n",
    "# Load predictions from different models\n",
    "catboost_preds = pd.read_csv('./cb.csv', index_col='respondent_id')\n",
    "lgbm_preds = pd.read_csv('./lgbm.csv', index_col='respondent_id')\n",
    "xgboost_preds = pd.read_csv('./submission_KFold-XGBoost.csv', index_col='respondent_id')\n",
    "\n",
    "# Simple average ensemble\n",
    "ensemble_preds = (catboost_preds + lgbm_preds + xgboost_preds) / 3\n",
    "\n",
    "# Save ensemble predictions\n",
    "ensemble_preds.to_csv(f'ensemble_submission.csv', index=True)\n",
    "\n",
    "ensemble_preds.head()\n"
   ],
   "outputs": [
    {
     "data": {
      "text/plain": [
       "               h1n1_vaccine  seasonal_vaccine\n",
       "respondent_id                                \n",
       "26707              0.213101          0.257885\n",
       "26708              0.051261          0.035531\n",
       "26709              0.326377          0.766655\n",
       "26710              0.761090          0.886581\n",
       "26711              0.421250          0.509461"
      ],
      "text/html": [
       "<div>\n",
       "<style scoped>\n",
       "    .dataframe tbody tr th:only-of-type {\n",
       "        vertical-align: middle;\n",
       "    }\n",
       "\n",
       "    .dataframe tbody tr th {\n",
       "        vertical-align: top;\n",
       "    }\n",
       "\n",
       "    .dataframe thead th {\n",
       "        text-align: right;\n",
       "    }\n",
       "</style>\n",
       "<table border=\"1\" class=\"dataframe\">\n",
       "  <thead>\n",
       "    <tr style=\"text-align: right;\">\n",
       "      <th></th>\n",
       "      <th>h1n1_vaccine</th>\n",
       "      <th>seasonal_vaccine</th>\n",
       "    </tr>\n",
       "    <tr>\n",
       "      <th>respondent_id</th>\n",
       "      <th></th>\n",
       "      <th></th>\n",
       "    </tr>\n",
       "  </thead>\n",
       "  <tbody>\n",
       "    <tr>\n",
       "      <th>26707</th>\n",
       "      <td>0.213101</td>\n",
       "      <td>0.257885</td>\n",
       "    </tr>\n",
       "    <tr>\n",
       "      <th>26708</th>\n",
       "      <td>0.051261</td>\n",
       "      <td>0.035531</td>\n",
       "    </tr>\n",
       "    <tr>\n",
       "      <th>26709</th>\n",
       "      <td>0.326377</td>\n",
       "      <td>0.766655</td>\n",
       "    </tr>\n",
       "    <tr>\n",
       "      <th>26710</th>\n",
       "      <td>0.761090</td>\n",
       "      <td>0.886581</td>\n",
       "    </tr>\n",
       "    <tr>\n",
       "      <th>26711</th>\n",
       "      <td>0.421250</td>\n",
       "      <td>0.509461</td>\n",
       "    </tr>\n",
       "  </tbody>\n",
       "</table>\n",
       "</div>"
      ]
     },
     "execution_count": 14,
     "metadata": {},
     "output_type": "execute_result"
    }
   ],
   "execution_count": 14
  },
  {
   "metadata": {
    "ExecuteTime": {
     "end_time": "2025-04-23T07:36:43.604135Z",
     "start_time": "2025-04-23T07:36:43.537934Z"
    }
   },
   "cell_type": "code",
   "source": [
    "# Define weights for each model (adjust according to validation performance)\n",
    "weights = {\n",
    "    'catboost': 0.4,\n",
    "    'lgbm': 0.4,\n",
    "    'xgboost': 0.2\n",
    "}\n",
    "\n",
    "# Load predictions\n",
    "catboost_preds = pd.read_csv('./cb.csv', index_col='respondent_id')\n",
    "lgbm_preds = pd.read_csv('./lgbm.csv', index_col='respondent_id')\n",
    "xgboost_preds = pd.read_csv('./submission_KFold-XGBoost.csv', index_col='respondent_id')\n",
    "\n",
    "# Weighted ensemble calculation\n",
    "ensemble_preds = (\n",
    "    catboost_preds * weights['catboost'] +\n",
    "    lgbm_preds * weights['lgbm'] +\n",
    "    xgboost_preds * weights['xgboost']\n",
    ")\n",
    "\n",
    "# Save weighted ensemble predictions\n",
    "ensemble_preds.to_csv('weighted_ensemble_submission.csv', index=True)\n",
    "\n",
    "ensemble_preds.head()"
   ],
   "outputs": [
    {
     "data": {
      "text/plain": [
       "               h1n1_vaccine  seasonal_vaccine\n",
       "respondent_id                                \n",
       "26707              0.227762          0.256806\n",
       "26708              0.054392          0.037561\n",
       "26709              0.337687          0.765825\n",
       "26710              0.771766          0.888729\n",
       "26711              0.443386          0.519597"
      ],
      "text/html": [
       "<div>\n",
       "<style scoped>\n",
       "    .dataframe tbody tr th:only-of-type {\n",
       "        vertical-align: middle;\n",
       "    }\n",
       "\n",
       "    .dataframe tbody tr th {\n",
       "        vertical-align: top;\n",
       "    }\n",
       "\n",
       "    .dataframe thead th {\n",
       "        text-align: right;\n",
       "    }\n",
       "</style>\n",
       "<table border=\"1\" class=\"dataframe\">\n",
       "  <thead>\n",
       "    <tr style=\"text-align: right;\">\n",
       "      <th></th>\n",
       "      <th>h1n1_vaccine</th>\n",
       "      <th>seasonal_vaccine</th>\n",
       "    </tr>\n",
       "    <tr>\n",
       "      <th>respondent_id</th>\n",
       "      <th></th>\n",
       "      <th></th>\n",
       "    </tr>\n",
       "  </thead>\n",
       "  <tbody>\n",
       "    <tr>\n",
       "      <th>26707</th>\n",
       "      <td>0.227762</td>\n",
       "      <td>0.256806</td>\n",
       "    </tr>\n",
       "    <tr>\n",
       "      <th>26708</th>\n",
       "      <td>0.054392</td>\n",
       "      <td>0.037561</td>\n",
       "    </tr>\n",
       "    <tr>\n",
       "      <th>26709</th>\n",
       "      <td>0.337687</td>\n",
       "      <td>0.765825</td>\n",
       "    </tr>\n",
       "    <tr>\n",
       "      <th>26710</th>\n",
       "      <td>0.771766</td>\n",
       "      <td>0.888729</td>\n",
       "    </tr>\n",
       "    <tr>\n",
       "      <th>26711</th>\n",
       "      <td>0.443386</td>\n",
       "      <td>0.519597</td>\n",
       "    </tr>\n",
       "  </tbody>\n",
       "</table>\n",
       "</div>"
      ]
     },
     "execution_count": 16,
     "metadata": {},
     "output_type": "execute_result"
    }
   ],
   "execution_count": 16
  },
  {
   "metadata": {},
   "cell_type": "code",
   "outputs": [],
   "execution_count": null,
   "source": ""
  }
 ],
 "metadata": {
  "kernelspec": {
   "display_name": "Python 3",
   "language": "python",
   "name": "python3"
  },
  "language_info": {
   "codemirror_mode": {
    "name": "ipython",
    "version": 3
   },
   "file_extension": ".py",
   "mimetype": "text/x-python",
   "name": "python",
   "nbconvert_exporter": "python",
   "pygments_lexer": "ipython3",
   "version": "3.11.2"
  }
 },
 "nbformat": 4,
 "nbformat_minor": 2
}
