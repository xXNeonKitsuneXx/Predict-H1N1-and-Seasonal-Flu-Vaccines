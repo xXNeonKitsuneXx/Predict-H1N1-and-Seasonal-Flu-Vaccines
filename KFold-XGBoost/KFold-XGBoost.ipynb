{
 "cells": [
  {
   "cell_type": "code",
   "execution_count": 8,
   "metadata": {},
   "outputs": [
    {
     "name": "stdout",
     "output_type": "stream",
     "text": [
      "Requirement already satisfied: pandas in c:\\users\\xxneo\\appdata\\local\\programs\\python\\python311\\lib\\site-packages (2.2.3)\n",
      "Requirement already satisfied: numpy>=1.23.2 in c:\\users\\xxneo\\appdata\\local\\programs\\python\\python311\\lib\\site-packages (from pandas) (1.26.4)\n",
      "Requirement already satisfied: python-dateutil>=2.8.2 in c:\\users\\xxneo\\appdata\\local\\programs\\python\\python311\\lib\\site-packages (from pandas) (2.9.0.post0)\n",
      "Requirement already satisfied: pytz>=2020.1 in c:\\users\\xxneo\\appdata\\local\\programs\\python\\python311\\lib\\site-packages (from pandas) (2024.2)\n",
      "Requirement already satisfied: tzdata>=2022.7 in c:\\users\\xxneo\\appdata\\local\\programs\\python\\python311\\lib\\site-packages (from pandas) (2024.2)\n",
      "Requirement already satisfied: six>=1.5 in c:\\users\\xxneo\\appdata\\local\\programs\\python\\python311\\lib\\site-packages (from python-dateutil>=2.8.2->pandas) (1.16.0)\n"
     ]
    },
    {
     "name": "stderr",
     "output_type": "stream",
     "text": [
      "\n",
      "[notice] A new release of pip available: 22.3.1 -> 25.0.1\n",
      "[notice] To update, run: python.exe -m pip install --upgrade pip\n"
     ]
    },
    {
     "name": "stdout",
     "output_type": "stream",
     "text": [
      "Requirement already satisfied: numpy in c:\\users\\xxneo\\appdata\\local\\programs\\python\\python311\\lib\\site-packages (1.26.4)"
     ]
    },
    {
     "name": "stderr",
     "output_type": "stream",
     "text": [
      "\n",
      "[notice] A new release of pip available: 22.3.1 -> 25.0.1\n",
      "[notice] To update, run: python.exe -m pip install --upgrade pip\n"
     ]
    },
    {
     "name": "stdout",
     "output_type": "stream",
     "text": [
      "\n",
      "Requirement already satisfied: scikit-learn in c:\\users\\xxneo\\appdata\\local\\programs\\python\\python311\\lib\\site-packages (1.6.1)\n",
      "Requirement already satisfied: numpy>=1.19.5 in c:\\users\\xxneo\\appdata\\local\\programs\\python\\python311\\lib\\site-packages (from scikit-learn) (1.26.4)\n",
      "Requirement already satisfied: scipy>=1.6.0 in c:\\users\\xxneo\\appdata\\local\\programs\\python\\python311\\lib\\site-packages (from scikit-learn) (1.14.1)\n",
      "Requirement already satisfied: joblib>=1.2.0 in c:\\users\\xxneo\\appdata\\local\\programs\\python\\python311\\lib\\site-packages (from scikit-learn) (1.4.2)\n",
      "Requirement already satisfied: threadpoolctl>=3.1.0 in c:\\users\\xxneo\\appdata\\local\\programs\\python\\python311\\lib\\site-packages (from scikit-learn) (3.5.0)\n"
     ]
    },
    {
     "name": "stderr",
     "output_type": "stream",
     "text": [
      "\n",
      "[notice] A new release of pip available: 22.3.1 -> 25.0.1\n",
      "[notice] To update, run: python.exe -m pip install --upgrade pip\n"
     ]
    },
    {
     "name": "stdout",
     "output_type": "stream",
     "text": [
      "Requirement already satisfied: xgboost in c:\\users\\xxneo\\appdata\\local\\programs\\python\\python311\\lib\\site-packages (2.1.4)\n",
      "Requirement already satisfied: numpy in c:\\users\\xxneo\\appdata\\local\\programs\\python\\python311\\lib\\site-packages (from xgboost) (1.26.4)\n",
      "Requirement already satisfied: scipy in c:\\users\\xxneo\\appdata\\local\\programs\\python\\python311\\lib\\site-packages (from xgboost) (1.14.1)\n"
     ]
    },
    {
     "name": "stderr",
     "output_type": "stream",
     "text": [
      "\n",
      "[notice] A new release of pip available: 22.3.1 -> 25.0.1\n",
      "[notice] To update, run: python.exe -m pip install --upgrade pip\n"
     ]
    }
   ],
   "source": [
    "!pip install pandas\n",
    "!pip install numpy\n",
    "!pip install scikit-learn\n",
    "!pip install xgboost"
   ]
  },
  {
   "cell_type": "code",
   "execution_count": 9,
   "metadata": {},
   "outputs": [],
   "source": [
    "import pandas as pd\n",
    "import numpy as np\n",
    "from xgboost import XGBClassifier\n",
    "from sklearn.model_selection import StratifiedKFold\n",
    "from sklearn.metrics import roc_auc_score\n",
    "from sklearn.impute import SimpleImputer\n",
    "from sklearn.preprocessing import OneHotEncoder\n",
    "from sklearn.compose import ColumnTransformer\n",
    "from sklearn.pipeline import Pipeline"
   ]
  },
  {
   "cell_type": "code",
   "execution_count": 10,
   "metadata": {},
   "outputs": [],
   "source": [
    "# Load datasets\n",
    "train_features = pd.read_csv(\"./training_set_features.csv\")\n",
    "train_labels = pd.read_csv(\"./training_set_labels.csv\")\n",
    "test_features = pd.read_csv(\"./test_set_features.csv\")"
   ]
  },
  {
   "cell_type": "code",
   "execution_count": 11,
   "metadata": {},
   "outputs": [],
   "source": [
    "# Merge training labels with features\n",
    "train = train_features.merge(train_labels, on=\"respondent_id\")\n",
    "\n",
    "# Extract respondent_id for test\n",
    "test_respondent_id = test_features[\"respondent_id\"]\n",
    "\n",
    "# Drop respondent_id from features\n",
    "train.drop(columns=[\"respondent_id\"], inplace=True)\n",
    "test_features.drop(columns=[\"respondent_id\"], inplace=True)"
   ]
  },
  {
   "cell_type": "code",
   "execution_count": 12,
   "metadata": {},
   "outputs": [],
   "source": [
    "# Define categorical and numerical features\n",
    "categorical_features = train.select_dtypes(include=[\"object\"]).columns.tolist()\n",
    "numerical_features = train.select_dtypes(include=[\"int64\", \"float64\"]).columns.tolist()\n",
    "numerical_features.remove(\"h1n1_vaccine\")\n",
    "numerical_features.remove(\"seasonal_vaccine\")"
   ]
  },
  {
   "cell_type": "code",
   "execution_count": 13,
   "metadata": {},
   "outputs": [],
   "source": [
    "# Preprocessing Pipeline\n",
    "num_pipeline = SimpleImputer(strategy=\"mean\")\n",
    "cat_pipeline = Pipeline([\n",
    "    (\"imputer\", SimpleImputer(strategy=\"most_frequent\")),\n",
    "    (\"encoder\", OneHotEncoder(handle_unknown=\"ignore\"))\n",
    "])\n",
    "\n",
    "preprocessor = ColumnTransformer([\n",
    "    (\"num\", num_pipeline, numerical_features),\n",
    "    (\"cat\", cat_pipeline, categorical_features)\n",
    "])\n",
    "\n",
    "# Fit and transform training data\n",
    "X_train_processed = preprocessor.fit_transform(train.drop(columns=[\"h1n1_vaccine\", \"seasonal_vaccine\"]))\n",
    "y_train = train[[\"h1n1_vaccine\", \"seasonal_vaccine\"]]\n",
    "\n",
    "# Transform test data\n",
    "X_test_processed = preprocessor.transform(test_features)"
   ]
  },
  {
   "cell_type": "code",
   "execution_count": 26,
   "metadata": {},
   "outputs": [
    {
     "name": "stdout",
     "output_type": "stream",
     "text": [
      "#########################\n",
      "### Fold 1\n",
      "#########################\n",
      "[0]\tvalidation_0-logloss:0.51682\n"
     ]
    },
    {
     "name": "stderr",
     "output_type": "stream",
     "text": [
      "c:\\Users\\xXNeo\\AppData\\Local\\Programs\\Python\\Python311\\Lib\\site-packages\\xgboost\\core.py:158: UserWarning: [23:07:07] WARNING: C:\\buildkite-agent\\builds\\buildkite-windows-cpu-autoscaling-group-i-08cbc0333d8d4aae1-1\\xgboost\\xgboost-ci-windows\\src\\learner.cc:740: \n",
      "Parameters: { \"use_label_encoder\" } are not used.\n",
      "\n",
      "  warnings.warn(smsg, UserWarning)\n"
     ]
    },
    {
     "name": "stdout",
     "output_type": "stream",
     "text": [
      "[500]\tvalidation_0-logloss:0.35569\n",
      "[1000]\tvalidation_0-logloss:0.35098\n",
      "[1500]\tvalidation_0-logloss:0.34934\n",
      "[1999]\tvalidation_0-logloss:0.34844\n",
      "[0]\tvalidation_0-logloss:0.68639\n"
     ]
    },
    {
     "name": "stderr",
     "output_type": "stream",
     "text": [
      "c:\\Users\\xXNeo\\AppData\\Local\\Programs\\Python\\Python311\\Lib\\site-packages\\xgboost\\core.py:158: UserWarning: [23:07:10] WARNING: C:\\buildkite-agent\\builds\\buildkite-windows-cpu-autoscaling-group-i-08cbc0333d8d4aae1-1\\xgboost\\xgboost-ci-windows\\src\\learner.cc:740: \n",
      "Parameters: { \"use_label_encoder\" } are not used.\n",
      "\n",
      "  warnings.warn(smsg, UserWarning)\n"
     ]
    },
    {
     "name": "stdout",
     "output_type": "stream",
     "text": [
      "[500]\tvalidation_0-logloss:0.46095\n",
      "[1000]\tvalidation_0-logloss:0.45700\n",
      "[1500]\tvalidation_0-logloss:0.45629\n",
      "[1999]\tvalidation_0-logloss:0.45649\n",
      "#########################\n",
      "### Fold 2\n",
      "#########################\n",
      "[0]\tvalidation_0-logloss:0.51679\n"
     ]
    },
    {
     "name": "stderr",
     "output_type": "stream",
     "text": [
      "c:\\Users\\xXNeo\\AppData\\Local\\Programs\\Python\\Python311\\Lib\\site-packages\\xgboost\\core.py:158: UserWarning: [23:07:14] WARNING: C:\\buildkite-agent\\builds\\buildkite-windows-cpu-autoscaling-group-i-08cbc0333d8d4aae1-1\\xgboost\\xgboost-ci-windows\\src\\learner.cc:740: \n",
      "Parameters: { \"use_label_encoder\" } are not used.\n",
      "\n",
      "  warnings.warn(smsg, UserWarning)\n"
     ]
    },
    {
     "name": "stdout",
     "output_type": "stream",
     "text": [
      "[500]\tvalidation_0-logloss:0.34522\n",
      "[1000]\tvalidation_0-logloss:0.34433\n",
      "[1500]\tvalidation_0-logloss:0.34486\n",
      "[1999]\tvalidation_0-logloss:0.34569\n",
      "[0]\tvalidation_0-logloss:0.68610\n"
     ]
    },
    {
     "name": "stderr",
     "output_type": "stream",
     "text": [
      "c:\\Users\\xXNeo\\AppData\\Local\\Programs\\Python\\Python311\\Lib\\site-packages\\xgboost\\core.py:158: UserWarning: [23:07:17] WARNING: C:\\buildkite-agent\\builds\\buildkite-windows-cpu-autoscaling-group-i-08cbc0333d8d4aae1-1\\xgboost\\xgboost-ci-windows\\src\\learner.cc:740: \n",
      "Parameters: { \"use_label_encoder\" } are not used.\n",
      "\n",
      "  warnings.warn(smsg, UserWarning)\n"
     ]
    },
    {
     "name": "stdout",
     "output_type": "stream",
     "text": [
      "[500]\tvalidation_0-logloss:0.48088\n",
      "[1000]\tvalidation_0-logloss:0.48068\n",
      "[1500]\tvalidation_0-logloss:0.48009\n",
      "[1999]\tvalidation_0-logloss:0.47980\n",
      "#########################\n",
      "### Fold 3\n",
      "#########################\n",
      "[0]\tvalidation_0-logloss:0.51651\n"
     ]
    },
    {
     "name": "stderr",
     "output_type": "stream",
     "text": [
      "c:\\Users\\xXNeo\\AppData\\Local\\Programs\\Python\\Python311\\Lib\\site-packages\\xgboost\\core.py:158: UserWarning: [23:07:21] WARNING: C:\\buildkite-agent\\builds\\buildkite-windows-cpu-autoscaling-group-i-08cbc0333d8d4aae1-1\\xgboost\\xgboost-ci-windows\\src\\learner.cc:740: \n",
      "Parameters: { \"use_label_encoder\" } are not used.\n",
      "\n",
      "  warnings.warn(smsg, UserWarning)\n"
     ]
    },
    {
     "name": "stdout",
     "output_type": "stream",
     "text": [
      "[500]\tvalidation_0-logloss:0.34307\n",
      "[1000]\tvalidation_0-logloss:0.34111\n",
      "[1500]\tvalidation_0-logloss:0.34114\n",
      "[1999]\tvalidation_0-logloss:0.34128\n",
      "[0]\tvalidation_0-logloss:0.68759\n"
     ]
    },
    {
     "name": "stderr",
     "output_type": "stream",
     "text": [
      "c:\\Users\\xXNeo\\AppData\\Local\\Programs\\Python\\Python311\\Lib\\site-packages\\xgboost\\core.py:158: UserWarning: [23:07:24] WARNING: C:\\buildkite-agent\\builds\\buildkite-windows-cpu-autoscaling-group-i-08cbc0333d8d4aae1-1\\xgboost\\xgboost-ci-windows\\src\\learner.cc:740: \n",
      "Parameters: { \"use_label_encoder\" } are not used.\n",
      "\n",
      "  warnings.warn(smsg, UserWarning)\n"
     ]
    },
    {
     "name": "stdout",
     "output_type": "stream",
     "text": [
      "[500]\tvalidation_0-logloss:0.46208\n",
      "[1000]\tvalidation_0-logloss:0.45767\n",
      "[1500]\tvalidation_0-logloss:0.45739\n",
      "[1999]\tvalidation_0-logloss:0.45765\n",
      "#########################\n",
      "### Fold 4\n",
      "#########################\n",
      "[0]\tvalidation_0-logloss:0.51700\n"
     ]
    },
    {
     "name": "stderr",
     "output_type": "stream",
     "text": [
      "c:\\Users\\xXNeo\\AppData\\Local\\Programs\\Python\\Python311\\Lib\\site-packages\\xgboost\\core.py:158: UserWarning: [23:07:28] WARNING: C:\\buildkite-agent\\builds\\buildkite-windows-cpu-autoscaling-group-i-08cbc0333d8d4aae1-1\\xgboost\\xgboost-ci-windows\\src\\learner.cc:740: \n",
      "Parameters: { \"use_label_encoder\" } are not used.\n",
      "\n",
      "  warnings.warn(smsg, UserWarning)\n"
     ]
    },
    {
     "name": "stdout",
     "output_type": "stream",
     "text": [
      "[500]\tvalidation_0-logloss:0.33311\n",
      "[1000]\tvalidation_0-logloss:0.32909\n",
      "[1500]\tvalidation_0-logloss:0.32768\n",
      "[1999]\tvalidation_0-logloss:0.32706\n",
      "[0]\tvalidation_0-logloss:0.68630\n"
     ]
    },
    {
     "name": "stderr",
     "output_type": "stream",
     "text": [
      "c:\\Users\\xXNeo\\AppData\\Local\\Programs\\Python\\Python311\\Lib\\site-packages\\xgboost\\core.py:158: UserWarning: [23:07:31] WARNING: C:\\buildkite-agent\\builds\\buildkite-windows-cpu-autoscaling-group-i-08cbc0333d8d4aae1-1\\xgboost\\xgboost-ci-windows\\src\\learner.cc:740: \n",
      "Parameters: { \"use_label_encoder\" } are not used.\n",
      "\n",
      "  warnings.warn(smsg, UserWarning)\n"
     ]
    },
    {
     "name": "stdout",
     "output_type": "stream",
     "text": [
      "[500]\tvalidation_0-logloss:0.47391\n",
      "[1000]\tvalidation_0-logloss:0.46771\n",
      "[1500]\tvalidation_0-logloss:0.46651\n",
      "[1999]\tvalidation_0-logloss:0.46640\n",
      "#########################\n",
      "### Fold 5\n",
      "#########################\n",
      "[0]\tvalidation_0-logloss:0.51718\n"
     ]
    },
    {
     "name": "stderr",
     "output_type": "stream",
     "text": [
      "c:\\Users\\xXNeo\\AppData\\Local\\Programs\\Python\\Python311\\Lib\\site-packages\\xgboost\\core.py:158: UserWarning: [23:07:35] WARNING: C:\\buildkite-agent\\builds\\buildkite-windows-cpu-autoscaling-group-i-08cbc0333d8d4aae1-1\\xgboost\\xgboost-ci-windows\\src\\learner.cc:740: \n",
      "Parameters: { \"use_label_encoder\" } are not used.\n",
      "\n",
      "  warnings.warn(smsg, UserWarning)\n"
     ]
    },
    {
     "name": "stdout",
     "output_type": "stream",
     "text": [
      "[500]\tvalidation_0-logloss:0.36224\n",
      "[1000]\tvalidation_0-logloss:0.36120\n",
      "[1500]\tvalidation_0-logloss:0.36098\n",
      "[1999]\tvalidation_0-logloss:0.36133\n",
      "[0]\tvalidation_0-logloss:0.68620\n"
     ]
    },
    {
     "name": "stderr",
     "output_type": "stream",
     "text": [
      "c:\\Users\\xXNeo\\AppData\\Local\\Programs\\Python\\Python311\\Lib\\site-packages\\xgboost\\core.py:158: UserWarning: [23:07:38] WARNING: C:\\buildkite-agent\\builds\\buildkite-windows-cpu-autoscaling-group-i-08cbc0333d8d4aae1-1\\xgboost\\xgboost-ci-windows\\src\\learner.cc:740: \n",
      "Parameters: { \"use_label_encoder\" } are not used.\n",
      "\n",
      "  warnings.warn(smsg, UserWarning)\n"
     ]
    },
    {
     "name": "stdout",
     "output_type": "stream",
     "text": [
      "[500]\tvalidation_0-logloss:0.46970\n",
      "[1000]\tvalidation_0-logloss:0.46632\n",
      "[1500]\tvalidation_0-logloss:0.46606\n",
      "[1999]\tvalidation_0-logloss:0.46657\n",
      "#########################\n",
      "### Fold 6\n",
      "#########################\n",
      "[0]\tvalidation_0-logloss:0.51684\n"
     ]
    },
    {
     "name": "stderr",
     "output_type": "stream",
     "text": [
      "c:\\Users\\xXNeo\\AppData\\Local\\Programs\\Python\\Python311\\Lib\\site-packages\\xgboost\\core.py:158: UserWarning: [23:07:42] WARNING: C:\\buildkite-agent\\builds\\buildkite-windows-cpu-autoscaling-group-i-08cbc0333d8d4aae1-1\\xgboost\\xgboost-ci-windows\\src\\learner.cc:740: \n",
      "Parameters: { \"use_label_encoder\" } are not used.\n",
      "\n",
      "  warnings.warn(smsg, UserWarning)\n"
     ]
    },
    {
     "name": "stdout",
     "output_type": "stream",
     "text": [
      "[500]\tvalidation_0-logloss:0.33474\n",
      "[1000]\tvalidation_0-logloss:0.32982\n",
      "[1500]\tvalidation_0-logloss:0.32845\n",
      "[1999]\tvalidation_0-logloss:0.32723\n",
      "[0]\tvalidation_0-logloss:0.68608\n"
     ]
    },
    {
     "name": "stderr",
     "output_type": "stream",
     "text": [
      "c:\\Users\\xXNeo\\AppData\\Local\\Programs\\Python\\Python311\\Lib\\site-packages\\xgboost\\core.py:158: UserWarning: [23:07:45] WARNING: C:\\buildkite-agent\\builds\\buildkite-windows-cpu-autoscaling-group-i-08cbc0333d8d4aae1-1\\xgboost\\xgboost-ci-windows\\src\\learner.cc:740: \n",
      "Parameters: { \"use_label_encoder\" } are not used.\n",
      "\n",
      "  warnings.warn(smsg, UserWarning)\n"
     ]
    },
    {
     "name": "stdout",
     "output_type": "stream",
     "text": [
      "[500]\tvalidation_0-logloss:0.46229\n",
      "[1000]\tvalidation_0-logloss:0.45727\n",
      "[1500]\tvalidation_0-logloss:0.45641\n",
      "[1999]\tvalidation_0-logloss:0.45626\n",
      "#########################\n",
      "### Fold 7\n",
      "#########################\n",
      "[0]\tvalidation_0-logloss:0.51699\n"
     ]
    },
    {
     "name": "stderr",
     "output_type": "stream",
     "text": [
      "c:\\Users\\xXNeo\\AppData\\Local\\Programs\\Python\\Python311\\Lib\\site-packages\\xgboost\\core.py:158: UserWarning: [23:07:49] WARNING: C:\\buildkite-agent\\builds\\buildkite-windows-cpu-autoscaling-group-i-08cbc0333d8d4aae1-1\\xgboost\\xgboost-ci-windows\\src\\learner.cc:740: \n",
      "Parameters: { \"use_label_encoder\" } are not used.\n",
      "\n",
      "  warnings.warn(smsg, UserWarning)\n"
     ]
    },
    {
     "name": "stdout",
     "output_type": "stream",
     "text": [
      "[500]\tvalidation_0-logloss:0.34812\n",
      "[1000]\tvalidation_0-logloss:0.34330\n",
      "[1500]\tvalidation_0-logloss:0.34183\n",
      "[1999]\tvalidation_0-logloss:0.34149\n",
      "[0]\tvalidation_0-logloss:0.68621\n"
     ]
    },
    {
     "name": "stderr",
     "output_type": "stream",
     "text": [
      "c:\\Users\\xXNeo\\AppData\\Local\\Programs\\Python\\Python311\\Lib\\site-packages\\xgboost\\core.py:158: UserWarning: [23:07:53] WARNING: C:\\buildkite-agent\\builds\\buildkite-windows-cpu-autoscaling-group-i-08cbc0333d8d4aae1-1\\xgboost\\xgboost-ci-windows\\src\\learner.cc:740: \n",
      "Parameters: { \"use_label_encoder\" } are not used.\n",
      "\n",
      "  warnings.warn(smsg, UserWarning)\n"
     ]
    },
    {
     "name": "stdout",
     "output_type": "stream",
     "text": [
      "[500]\tvalidation_0-logloss:0.44586\n",
      "[1000]\tvalidation_0-logloss:0.44041\n",
      "[1500]\tvalidation_0-logloss:0.43895\n",
      "[1999]\tvalidation_0-logloss:0.43838\n",
      "#########################\n",
      "### Fold 8\n",
      "#########################\n",
      "[0]\tvalidation_0-logloss:0.51652\n"
     ]
    },
    {
     "name": "stderr",
     "output_type": "stream",
     "text": [
      "c:\\Users\\xXNeo\\AppData\\Local\\Programs\\Python\\Python311\\Lib\\site-packages\\xgboost\\core.py:158: UserWarning: [23:07:56] WARNING: C:\\buildkite-agent\\builds\\buildkite-windows-cpu-autoscaling-group-i-08cbc0333d8d4aae1-1\\xgboost\\xgboost-ci-windows\\src\\learner.cc:740: \n",
      "Parameters: { \"use_label_encoder\" } are not used.\n",
      "\n",
      "  warnings.warn(smsg, UserWarning)\n"
     ]
    },
    {
     "name": "stdout",
     "output_type": "stream",
     "text": [
      "[500]\tvalidation_0-logloss:0.34292\n",
      "[1000]\tvalidation_0-logloss:0.33891\n",
      "[1500]\tvalidation_0-logloss:0.33787\n",
      "[1999]\tvalidation_0-logloss:0.33733\n",
      "[0]\tvalidation_0-logloss:0.68474\n"
     ]
    },
    {
     "name": "stderr",
     "output_type": "stream",
     "text": [
      "c:\\Users\\xXNeo\\AppData\\Local\\Programs\\Python\\Python311\\Lib\\site-packages\\xgboost\\core.py:158: UserWarning: [23:07:59] WARNING: C:\\buildkite-agent\\builds\\buildkite-windows-cpu-autoscaling-group-i-08cbc0333d8d4aae1-1\\xgboost\\xgboost-ci-windows\\src\\learner.cc:740: \n",
      "Parameters: { \"use_label_encoder\" } are not used.\n",
      "\n",
      "  warnings.warn(smsg, UserWarning)\n"
     ]
    },
    {
     "name": "stdout",
     "output_type": "stream",
     "text": [
      "[500]\tvalidation_0-logloss:0.47097\n",
      "[1000]\tvalidation_0-logloss:0.46798\n",
      "[1500]\tvalidation_0-logloss:0.46740\n",
      "[1999]\tvalidation_0-logloss:0.46805\n",
      "#########################\n",
      "### Fold 9\n",
      "#########################\n",
      "[0]\tvalidation_0-logloss:0.51691\n"
     ]
    },
    {
     "name": "stderr",
     "output_type": "stream",
     "text": [
      "c:\\Users\\xXNeo\\AppData\\Local\\Programs\\Python\\Python311\\Lib\\site-packages\\xgboost\\core.py:158: UserWarning: [23:08:03] WARNING: C:\\buildkite-agent\\builds\\buildkite-windows-cpu-autoscaling-group-i-08cbc0333d8d4aae1-1\\xgboost\\xgboost-ci-windows\\src\\learner.cc:740: \n",
      "Parameters: { \"use_label_encoder\" } are not used.\n",
      "\n",
      "  warnings.warn(smsg, UserWarning)\n"
     ]
    },
    {
     "name": "stdout",
     "output_type": "stream",
     "text": [
      "[500]\tvalidation_0-logloss:0.35094\n",
      "[1000]\tvalidation_0-logloss:0.34782\n",
      "[1500]\tvalidation_0-logloss:0.34743\n",
      "[1999]\tvalidation_0-logloss:0.34852\n",
      "[0]\tvalidation_0-logloss:0.68695\n"
     ]
    },
    {
     "name": "stderr",
     "output_type": "stream",
     "text": [
      "c:\\Users\\xXNeo\\AppData\\Local\\Programs\\Python\\Python311\\Lib\\site-packages\\xgboost\\core.py:158: UserWarning: [23:08:06] WARNING: C:\\buildkite-agent\\builds\\buildkite-windows-cpu-autoscaling-group-i-08cbc0333d8d4aae1-1\\xgboost\\xgboost-ci-windows\\src\\learner.cc:740: \n",
      "Parameters: { \"use_label_encoder\" } are not used.\n",
      "\n",
      "  warnings.warn(smsg, UserWarning)\n"
     ]
    },
    {
     "name": "stdout",
     "output_type": "stream",
     "text": [
      "[500]\tvalidation_0-logloss:0.47466\n",
      "[1000]\tvalidation_0-logloss:0.47304\n",
      "[1500]\tvalidation_0-logloss:0.47280\n",
      "[1999]\tvalidation_0-logloss:0.47313\n",
      "#########################\n",
      "### Fold 10\n",
      "#########################\n",
      "[0]\tvalidation_0-logloss:0.51679\n"
     ]
    },
    {
     "name": "stderr",
     "output_type": "stream",
     "text": [
      "c:\\Users\\xXNeo\\AppData\\Local\\Programs\\Python\\Python311\\Lib\\site-packages\\xgboost\\core.py:158: UserWarning: [23:08:10] WARNING: C:\\buildkite-agent\\builds\\buildkite-windows-cpu-autoscaling-group-i-08cbc0333d8d4aae1-1\\xgboost\\xgboost-ci-windows\\src\\learner.cc:740: \n",
      "Parameters: { \"use_label_encoder\" } are not used.\n",
      "\n",
      "  warnings.warn(smsg, UserWarning)\n"
     ]
    },
    {
     "name": "stdout",
     "output_type": "stream",
     "text": [
      "[500]\tvalidation_0-logloss:0.35739\n",
      "[1000]\tvalidation_0-logloss:0.35530\n",
      "[1500]\tvalidation_0-logloss:0.35505\n",
      "[1999]\tvalidation_0-logloss:0.35511\n",
      "[0]\tvalidation_0-logloss:0.68875\n"
     ]
    },
    {
     "name": "stderr",
     "output_type": "stream",
     "text": [
      "c:\\Users\\xXNeo\\AppData\\Local\\Programs\\Python\\Python311\\Lib\\site-packages\\xgboost\\core.py:158: UserWarning: [23:08:13] WARNING: C:\\buildkite-agent\\builds\\buildkite-windows-cpu-autoscaling-group-i-08cbc0333d8d4aae1-1\\xgboost\\xgboost-ci-windows\\src\\learner.cc:740: \n",
      "Parameters: { \"use_label_encoder\" } are not used.\n",
      "\n",
      "  warnings.warn(smsg, UserWarning)\n"
     ]
    },
    {
     "name": "stdout",
     "output_type": "stream",
     "text": [
      "[500]\tvalidation_0-logloss:0.45543\n",
      "[1000]\tvalidation_0-logloss:0.45184\n",
      "[1500]\tvalidation_0-logloss:0.45128\n",
      "[1999]\tvalidation_0-logloss:0.45190\n"
     ]
    }
   ],
   "source": [
    "# Define number of folds\n",
    "FOLDS = 10\n",
    "skf = StratifiedKFold(n_splits=FOLDS, shuffle=True, random_state=42)\n",
    "\n",
    "# Create empty arrays for OOF and test predictions\n",
    "oof_h1n1 = np.zeros(len(X_train_processed))\n",
    "oof_seasonal = np.zeros(len(X_train_processed))\n",
    "\n",
    "pred_h1n1 = np.zeros(len(X_test_processed))\n",
    "pred_seasonal = np.zeros(len(X_test_processed))\n",
    "\n",
    "for fold, (train_idx, val_idx) in enumerate(skf.split(X_train_processed, y_train[\"h1n1_vaccine\"])):\n",
    "\n",
    "    print(\"#\" * 25)\n",
    "    print(f\"### Fold {fold + 1}\")\n",
    "    print(\"#\" * 25)\n",
    "\n",
    "    # Split data for this fold\n",
    "    x_train, x_valid = X_train_processed[train_idx], X_train_processed[val_idx]\n",
    "    y_train_h1n1, y_valid_h1n1 = y_train[\"h1n1_vaccine\"].iloc[train_idx], y_train[\"h1n1_vaccine\"].iloc[val_idx]\n",
    "    y_train_seasonal, y_valid_seasonal = y_train[\"seasonal_vaccine\"].iloc[train_idx], y_train[\"seasonal_vaccine\"].iloc[val_idx]\n",
    "\n",
    "    # Define models\n",
    "    model_h1n1 = XGBClassifier(\n",
    "        max_depth=5,  \n",
    "        colsample_bytree=0.5,  \n",
    "        subsample=0.8,  \n",
    "        n_estimators=2000,  \n",
    "        learning_rate=0.015,  \n",
    "        reg_alpha=0.1, reg_lambda=1.0, \n",
    "        min_child_weight=80,\n",
    "        use_label_encoder=False,\n",
    "        eval_metric=\"logloss\",\n",
    "        random_state=42\n",
    "    )\n",
    "\n",
    "    model_seasonal = XGBClassifier(\n",
    "        max_depth=5,  \n",
    "        colsample_bytree=0.5,  \n",
    "        subsample=0.8,  \n",
    "        n_estimators=2000,  \n",
    "        learning_rate=0.015,  \n",
    "        reg_alpha=0.1, reg_lambda=1.0, \n",
    "        min_child_weight=80,\n",
    "        use_label_encoder=False,\n",
    "        eval_metric=\"logloss\",\n",
    "        random_state=42\n",
    "    )\n",
    "\n",
    "\n",
    "    # Train H1N1 model\n",
    "    model_h1n1.fit(\n",
    "        x_train, y_train_h1n1,\n",
    "        eval_set=[(x_valid, y_valid_h1n1)],\n",
    "        verbose=500,\n",
    "    )\n",
    "\n",
    "    # Train Seasonal model\n",
    "    model_seasonal.fit(\n",
    "        x_train, y_train_seasonal,\n",
    "        eval_set=[(x_valid, y_valid_seasonal)],\n",
    "        verbose=500,\n",
    "    )\n",
    "\n",
    "    # Infer OOF predictions\n",
    "    oof_h1n1[val_idx] = model_h1n1.predict_proba(x_valid)[:, 1]\n",
    "    oof_seasonal[val_idx] = model_seasonal.predict_proba(x_valid)[:, 1]\n",
    "\n",
    "    # Infer test predictions (averaging across folds)\n",
    "    pred_h1n1 += model_h1n1.predict_proba(X_test_processed)[:, 1] / FOLDS\n",
    "    pred_seasonal += model_seasonal.predict_proba(X_test_processed)[:, 1] / FOLDS\n"
   ]
  },
  {
   "cell_type": "code",
   "execution_count": 27,
   "metadata": {},
   "outputs": [
    {
     "name": "stdout",
     "output_type": "stream",
     "text": [
      "\n",
      "Final OOF AUC - H1N1: 0.8683\n",
      "Final OOF AUC - Seasonal: 0.8628\n"
     ]
    }
   ],
   "source": [
    "# Compute AUC for out-of-fold predictions\n",
    "auc_h1n1 = roc_auc_score(y_train[\"h1n1_vaccine\"], oof_h1n1)\n",
    "auc_seasonal = roc_auc_score(y_train[\"seasonal_vaccine\"], oof_seasonal)\n",
    "\n",
    "print(f\"\\nFinal OOF AUC - H1N1: {auc_h1n1:.4f}\")\n",
    "print(f\"Final OOF AUC - Seasonal: {auc_seasonal:.4f}\")"
   ]
  },
  {
   "cell_type": "code",
   "execution_count": 29,
   "metadata": {},
   "outputs": [
    {
     "name": "stdout",
     "output_type": "stream",
     "text": [
      "Final submission file 'submission_KFold-XGBoost.csv' created successfully!\n"
     ]
    }
   ],
   "source": [
    "# Prepare final test predictions\n",
    "submission = pd.DataFrame({\n",
    "    \"respondent_id\": test_respondent_id,\n",
    "    \"h1n1_vaccine\": pred_h1n1,\n",
    "    \"seasonal_vaccine\": pred_seasonal\n",
    "})\n",
    "\n",
    "# Save submission file\n",
    "submission.to_csv(\"submission_KFold-XGBoost.csv\", index=False)\n",
    "print(\"Final submission file 'submission_KFold-XGBoost.csv' created successfully!\")"
   ]
  }
 ],
 "metadata": {
  "kernelspec": {
   "display_name": "Python 3",
   "language": "python",
   "name": "python3"
  },
  "language_info": {
   "codemirror_mode": {
    "name": "ipython",
    "version": 3
   },
   "file_extension": ".py",
   "mimetype": "text/x-python",
   "name": "python",
   "nbconvert_exporter": "python",
   "pygments_lexer": "ipython3",
   "version": "3.11.2"
  }
 },
 "nbformat": 4,
 "nbformat_minor": 2
}
